{
  "cells": [
    {
      "cell_type": "markdown",
      "metadata": {
        "id": "view-in-github",
        "colab_type": "text"
      },
      "source": [
        "<a href=\"https://colab.research.google.com/github/JAYESH2505/Brain_Tumor_CNN/blob/main/Brain_Tumor_Detection_CNN.ipynb\" target=\"_parent\"><img src=\"https://colab.research.google.com/assets/colab-badge.svg\" alt=\"Open In Colab\"/></a>"
      ]
    },
    {
      "cell_type": "markdown",
      "metadata": {
        "id": "P5mqC51trfrO"
      },
      "source": [
        "# Deep Learning Project\n",
        "## Using CNN to Identify Various Brain Tumors in Patients During Early Stages to Prevent Fatalities\n",
        "This project leverages Convolutional Neural Networks (CNNs) and PyTorch to analyze Brain Tumor MRI Scans and classify them as tumor or no tumor. The goal is to assist in the early detection of brain tumors, potentially saving lives by enabling timely medical intervention."
      ]
    },
    {
      "cell_type": "markdown",
      "metadata": {
        "id": "ANgco0SctWeZ"
      },
      "source": [
        "###**Download DataSet**"
      ]
    },
    {
      "cell_type": "code",
      "execution_count": null,
      "metadata": {
        "colab": {
          "base_uri": "https://localhost:8080/"
        },
        "collapsed": true,
        "id": "7e635EIBt30m",
        "outputId": "99af1f3a-6427-4e45-9803-56d82ef10546"
      },
      "outputs": [
        {
          "output_type": "stream",
          "name": "stdout",
          "text": [
            "Requirement already satisfied: kaggle in /usr/local/lib/python3.10/dist-packages (1.6.17)\n",
            "Requirement already satisfied: six>=1.10 in /usr/local/lib/python3.10/dist-packages (from kaggle) (1.16.0)\n",
            "Requirement already satisfied: certifi>=2023.7.22 in /usr/local/lib/python3.10/dist-packages (from kaggle) (2024.8.30)\n",
            "Requirement already satisfied: python-dateutil in /usr/local/lib/python3.10/dist-packages (from kaggle) (2.8.2)\n",
            "Requirement already satisfied: requests in /usr/local/lib/python3.10/dist-packages (from kaggle) (2.32.3)\n",
            "Requirement already satisfied: tqdm in /usr/local/lib/python3.10/dist-packages (from kaggle) (4.66.6)\n",
            "Requirement already satisfied: python-slugify in /usr/local/lib/python3.10/dist-packages (from kaggle) (8.0.4)\n",
            "Requirement already satisfied: urllib3 in /usr/local/lib/python3.10/dist-packages (from kaggle) (2.2.3)\n",
            "Requirement already satisfied: bleach in /usr/local/lib/python3.10/dist-packages (from kaggle) (6.2.0)\n",
            "Requirement already satisfied: webencodings in /usr/local/lib/python3.10/dist-packages (from bleach->kaggle) (0.5.1)\n",
            "Requirement already satisfied: text-unidecode>=1.3 in /usr/local/lib/python3.10/dist-packages (from python-slugify->kaggle) (1.3)\n",
            "Requirement already satisfied: charset-normalizer<4,>=2 in /usr/local/lib/python3.10/dist-packages (from requests->kaggle) (3.4.0)\n",
            "Requirement already satisfied: idna<4,>=2.5 in /usr/local/lib/python3.10/dist-packages (from requests->kaggle) (3.10)\n"
          ]
        }
      ],
      "source": [
        "pip install kaggle"
      ]
    },
    {
      "cell_type": "code",
      "execution_count": null,
      "metadata": {
        "colab": {
          "base_uri": "https://localhost:8080/"
        },
        "id": "a8gwodc1ucUT",
        "outputId": "45781b79-a1ca-47ab-a0e8-b6115773dacc"
      },
      "outputs": [
        {
          "output_type": "stream",
          "name": "stdout",
          "text": [
            "mkdir: cannot create directory ‘/root/.kaggle’: File exists\n",
            "mv: cannot stat 'kaggle.json': No such file or directory\n",
            "chmod: cannot access '/root/.kaggle/kaggle.json': No such file or directory\n"
          ]
        }
      ],
      "source": [
        "!mkdir ~/.kaggle\n",
        "!mv kaggle.json ~/.kaggle/\n",
        "!chmod 600 ~/.kaggle/kaggle.json"
      ]
    },
    {
      "cell_type": "code",
      "execution_count": null,
      "metadata": {
        "colab": {
          "base_uri": "https://localhost:8080/"
        },
        "id": "1cqh6xB-vVOB",
        "outputId": "4ee40a0a-5b1d-4207-ee87-c8a6c7a3d46e"
      },
      "outputs": [
        {
          "output_type": "stream",
          "name": "stdout",
          "text": [
            "Dataset URL: https://www.kaggle.com/datasets/rm1000/brain-tumor-mri-scans\n",
            "License(s): CC0-1.0\n",
            "brain-tumor-mri-scans.zip: Skipping, found more recently modified local copy (use --force to force download)\n"
          ]
        }
      ],
      "source": [
        "!kaggle datasets download -d rm1000/brain-tumor-mri-scans"
      ]
    },
    {
      "cell_type": "code",
      "execution_count": null,
      "metadata": {
        "id": "mmVS4d-Tve8P"
      },
      "outputs": [],
      "source": [
        "# Unzip File\n",
        "import zipfile\n",
        "with zipfile.ZipFile(\"brain-tumor-mri-scans.zip\", 'r') as zip_ref:\n",
        "    zip_ref.extractall(\"brain_tumor_dataset\")"
      ]
    },
    {
      "cell_type": "code",
      "execution_count": null,
      "metadata": {
        "colab": {
          "base_uri": "https://localhost:8080/"
        },
        "id": "ZOoLkQavvlTH",
        "outputId": "4af958c9-f918-44a3-dbaf-7fd407b862ca"
      },
      "outputs": [
        {
          "output_type": "execute_result",
          "data": {
            "text/plain": [
              "['meningioma', 'pituitary', 'healthy', 'glioma']"
            ]
          },
          "metadata": {},
          "execution_count": 57
        }
      ],
      "source": [
        "# View\n",
        "import os\n",
        "os.listdir(\"brain_tumor_dataset\")"
      ]
    },
    {
      "cell_type": "markdown",
      "metadata": {
        "id": "arxT4JDEvuBU"
      },
      "source": [
        "###**Split Data into Train and Test Sets**"
      ]
    },
    {
      "cell_type": "code",
      "execution_count": null,
      "metadata": {
        "colab": {
          "base_uri": "https://localhost:8080/"
        },
        "id": "ktRzrVMUv_tV",
        "outputId": "1df070c1-4507-47b0-dfa8-baf3eb73f612"
      },
      "outputs": [
        {
          "output_type": "stream",
          "name": "stdout",
          "text": [
            "Data has been split into train and test sets.\n"
          ]
        }
      ],
      "source": [
        "import os\n",
        "import shutil\n",
        "from sklearn.model_selection import train_test_split\n",
        "\n",
        "# Define source folder and target folder paths\n",
        "source_folder = \"brain_tumor_dataset\"  # Adjust the path to where your dataset is located\n",
        "target_folder = \"data_split\"  # The folder where you want to save the split data\n",
        "\n",
        "# Define train-test split ratio\n",
        "test_size = 0.2  # 20% for testing\n",
        "\n",
        "# Create train and test directories\n",
        "for split in ['train', 'test']:\n",
        "    for category in ['meningioma', 'pituitary', 'healthy', 'glioma']:\n",
        "        os.makedirs(os.path.join(target_folder, split, category), exist_ok=True)\n",
        "\n",
        "# Split and move files\n",
        "for category in ['meningioma', 'pituitary', 'healthy', 'glioma']:\n",
        "    category_path = os.path.join(source_folder, category)\n",
        "    files = os.listdir(category_path)\n",
        "    train_files, test_files = train_test_split(files, test_size=test_size, random_state=42)\n",
        "\n",
        "    for split, split_files in zip(['train', 'test'], [train_files, test_files]):\n",
        "        for file in split_files:\n",
        "            shutil.copy(os.path.join(category_path, file),\n",
        "                        os.path.join(target_folder, split, category))\n",
        "\n",
        "print(\"Data has been split into train and test sets.\")\n"
      ]
    },
    {
      "cell_type": "markdown",
      "metadata": {
        "id": "77K0eZd1yXDw"
      },
      "source": [
        "### **Preprocessing**"
      ]
    },
    {
      "cell_type": "code",
      "execution_count": null,
      "metadata": {
        "id": "jCESYrvUypq5"
      },
      "outputs": [],
      "source": [
        "# Importing Dependencies\n",
        "import torch\n",
        "from torch import nn\n",
        "import matplotlib.pyplot as plt\n",
        "import torchvision\n",
        "from torchvision import transforms"
      ]
    },
    {
      "cell_type": "code",
      "execution_count": null,
      "metadata": {
        "id": "gHRQOTejywad"
      },
      "outputs": [],
      "source": [
        "transform=transforms.Compose([\n",
        "    transforms.Resize((224,224)),\n",
        "    transforms.ToTensor(),\n",
        "    transforms.Normalize(mean=[0.485, 0.456, 0.406], std=[0.229, 0.224, 0.225])\n",
        "])"
      ]
    },
    {
      "cell_type": "markdown",
      "metadata": {
        "id": "9W3dVWm20V4Y"
      },
      "source": [
        "### **Load the Data**"
      ]
    },
    {
      "cell_type": "code",
      "execution_count": null,
      "metadata": {
        "id": "xDuTMGIL0lr3"
      },
      "outputs": [],
      "source": [
        "# Import Dependecies\n",
        "from torchvision.datasets import ImageFolder\n",
        "from torch.utils.data import DataLoader\n",
        "\n",
        "train_dataset=ImageFolder(root=\"data_split/train\",transform=transform)\n",
        "test_dataset=ImageFolder(root=\"data_split/test\",transform=transform)\n",
        "\n",
        "train_dataloader=DataLoader(train_dataset,batch_size=32,shuffle=True)\n",
        "test_dataloader=DataLoader(test_dataset,batch_size=32,shuffle=True)"
      ]
    },
    {
      "cell_type": "code",
      "execution_count": null,
      "metadata": {
        "colab": {
          "base_uri": "https://localhost:8080/"
        },
        "id": "sHMnCekQ2MSF",
        "outputId": "4c0f9610-2cd8-4642-ae12-89a1aab96fbd"
      },
      "outputs": [
        {
          "output_type": "stream",
          "name": "stdout",
          "text": [
            "Train DataSet Dataset ImageFolder\n",
            "    Number of datapoints: 5617\n",
            "    Root location: data_split/train\n",
            "    StandardTransform\n",
            "Transform: Compose(\n",
            "               Resize(size=(224, 224), interpolation=bilinear, max_size=None, antialias=True)\n",
            "               ToTensor()\n",
            "               Normalize(mean=[0.485, 0.456, 0.406], std=[0.229, 0.224, 0.225])\n",
            "           ) \n",
            " Test DataSet Dataset ImageFolder\n",
            "    Number of datapoints: 1406\n",
            "    Root location: data_split/test\n",
            "    StandardTransform\n",
            "Transform: Compose(\n",
            "               Resize(size=(224, 224), interpolation=bilinear, max_size=None, antialias=True)\n",
            "               ToTensor()\n",
            "               Normalize(mean=[0.485, 0.456, 0.406], std=[0.229, 0.224, 0.225])\n",
            "           )\n"
          ]
        }
      ],
      "source": [
        "print(f\"Train DataSet {train_dataset} \\n Test DataSet {test_dataset}\")"
      ]
    },
    {
      "cell_type": "code",
      "execution_count": null,
      "metadata": {
        "colab": {
          "base_uri": "https://localhost:8080/"
        },
        "id": "HUViigXP3pNc",
        "outputId": "134d332f-a46b-4bb2-e111-b246f391109a"
      },
      "outputs": [
        {
          "output_type": "stream",
          "name": "stdout",
          "text": [
            "Train Data Loader <torch.utils.data.dataloader.DataLoader object at 0x7ede8dc30790> \n",
            " Test Data Loader <torch.utils.data.dataloader.DataLoader object at 0x7ede8dc32230>\n"
          ]
        }
      ],
      "source": [
        "print(f\"Train Data Loader {train_dataloader} \\n Test Data Loader {test_dataloader}\")"
      ]
    },
    {
      "cell_type": "code",
      "execution_count": null,
      "metadata": {
        "colab": {
          "base_uri": "https://localhost:8080/",
          "height": 446
        },
        "id": "X-yWLViC3wHp",
        "outputId": "10ec1905-09fc-4ea6-808e-9d59666b0dfc"
      },
      "outputs": [
        {
          "output_type": "stream",
          "name": "stderr",
          "text": [
            "WARNING:matplotlib.image:Clipping input data to the valid range for imshow with RGB data ([0..1] for floats or [0..255] for integers).\n"
          ]
        },
        {
          "output_type": "display_data",
          "data": {
            "text/plain": [
              "<Figure size 640x480 with 1 Axes>"
            ],
            "image/png": "[encoded data removed]"
          },
          "metadata": {}
        }
      ],
      "source": [
        "def show_single_image(loader):\n",
        "    # Get one batch of data\n",
        "    images, labels = next(iter(loader))\n",
        "\n",
        "    # Get the first image and its corresponding label\n",
        "    image = images[0]\n",
        "    label = labels[0]\n",
        "\n",
        "    # Convert the image tensor to numpy for display\n",
        "    image = image.permute(1, 2, 0).numpy()\n",
        "\n",
        "    # Use the labels to get the category name from the dataset's class_to_idx\n",
        "    class_names = loader.dataset.classes\n",
        "    label_name = class_names[label]\n",
        "\n",
        "    # Display the image\n",
        "    plt.imshow(image)\n",
        "    plt.title(f\"Label: {label_name}\")\n",
        "    plt.axis('off')  # Turn off axis numbers\n",
        "    plt.show()\n",
        "\n",
        "# Assuming train_loader is the DataLoader for the training dataset\n",
        "show_single_image(train_dataloader)"
      ]
    },
    {
      "cell_type": "markdown",
      "metadata": {
        "id": "4iB4glkY4RxT"
      },
      "source": [
        "### **Use a Pre-Trained Model (e.g., ResNet18)**"
      ]
    },
    {
      "cell_type": "code",
      "execution_count": null,
      "metadata": {
        "id": "i5rS3jtW460T"
      },
      "outputs": [],
      "source": [
        "from torchvision.models import resnet18"
      ]
    },
    {
      "cell_type": "code",
      "execution_count": null,
      "metadata": {
        "colab": {
          "base_uri": "https://localhost:8080/"
        },
        "id": "XDsxbQCR5LHC",
        "outputId": "e000df86-d530-4be4-a536-037ca18ccc21"
      },
      "outputs": [
        {
          "output_type": "stream",
          "name": "stderr",
          "text": [
            "/usr/local/lib/python3.10/dist-packages/torchvision/models/_utils.py:223: UserWarning: Arguments other than a weight enum or `None` for 'weights' are deprecated since 0.13 and may be removed in the future. The current behavior is equivalent to passing `weights=ResNet18_Weights.IMAGENET1K_V1`. You can also use `weights=ResNet18_Weights.DEFAULT` to get the most up-to-date weights.\n",
            "  warnings.warn(msg)\n"
          ]
        },
        {
          "output_type": "stream",
          "name": "stdout",
          "text": [
            "ResNet(\n",
            "  (conv1): Conv2d(3, 64, kernel_size=(7, 7), stride=(2, 2), padding=(3, 3), bias=False)\n",
            "  (bn1): BatchNorm2d(64, eps=1e-05, momentum=0.1, affine=True, track_running_stats=True)\n",
            "  (relu): ReLU(inplace=True)\n",
            "  (maxpool): MaxPool2d(kernel_size=3, stride=2, padding=1, dilation=1, ceil_mode=False)\n",
            "  (layer1): Sequential(\n",
            "    (0): BasicBlock(\n",
            "      (conv1): Conv2d(64, 64, kernel_size=(3, 3), stride=(1, 1), padding=(1, 1), bias=False)\n",
            "      (bn1): BatchNorm2d(64, eps=1e-05, momentum=0.1, affine=True, track_running_stats=True)\n",
            "      (relu): ReLU(inplace=True)\n",
            "      (conv2): Conv2d(64, 64, kernel_size=(3, 3), stride=(1, 1), padding=(1, 1), bias=False)\n",
            "      (bn2): BatchNorm2d(64, eps=1e-05, momentum=0.1, affine=True, track_running_stats=True)\n",
            "    )\n",
            "    (1): BasicBlock(\n",
            "      (conv1): Conv2d(64, 64, kernel_size=(3, 3), stride=(1, 1), padding=(1, 1), bias=False)\n",
            "      (bn1): BatchNorm2d(64, eps=1e-05, momentum=0.1, affine=True, track_running_stats=True)\n",
            "      (relu): ReLU(inplace=True)\n",
            "      (conv2): Conv2d(64, 64, kernel_size=(3, 3), stride=(1, 1), padding=(1, 1), bias=False)\n",
            "      (bn2): BatchNorm2d(64, eps=1e-05, momentum=0.1, affine=True, track_running_stats=True)\n",
            "    )\n",
            "  )\n",
            "  (layer2): Sequential(\n",
            "    (0): BasicBlock(\n",
            "      (conv1): Conv2d(64, 128, kernel_size=(3, 3), stride=(2, 2), padding=(1, 1), bias=False)\n",
            "      (bn1): BatchNorm2d(128, eps=1e-05, momentum=0.1, affine=True, track_running_stats=True)\n",
            "      (relu): ReLU(inplace=True)\n",
            "      (conv2): Conv2d(128, 128, kernel_size=(3, 3), stride=(1, 1), padding=(1, 1), bias=False)\n",
            "      (bn2): BatchNorm2d(128, eps=1e-05, momentum=0.1, affine=True, track_running_stats=True)\n",
            "      (downsample): Sequential(\n",
            "        (0): Conv2d(64, 128, kernel_size=(1, 1), stride=(2, 2), bias=False)\n",
            "        (1): BatchNorm2d(128, eps=1e-05, momentum=0.1, affine=True, track_running_stats=True)\n",
            "      )\n",
            "    )\n",
            "    (1): BasicBlock(\n",
            "      (conv1): Conv2d(128, 128, kernel_size=(3, 3), stride=(1, 1), padding=(1, 1), bias=False)\n",
            "      (bn1): BatchNorm2d(128, eps=1e-05, momentum=0.1, affine=True, track_running_stats=True)\n",
            "      (relu): ReLU(inplace=True)\n",
            "      (conv2): Conv2d(128, 128, kernel_size=(3, 3), stride=(1, 1), padding=(1, 1), bias=False)\n",
            "      (bn2): BatchNorm2d(128, eps=1e-05, momentum=0.1, affine=True, track_running_stats=True)\n",
            "    )\n",
            "  )\n",
            "  (layer3): Sequential(\n",
            "    (0): BasicBlock(\n",
            "      (conv1): Conv2d(128, 256, kernel_size=(3, 3), stride=(2, 2), padding=(1, 1), bias=False)\n",
            "      (bn1): BatchNorm2d(256, eps=1e-05, momentum=0.1, affine=True, track_running_stats=True)\n",
            "      (relu): ReLU(inplace=True)\n",
            "      (conv2): Conv2d(256, 256, kernel_size=(3, 3), stride=(1, 1), padding=(1, 1), bias=False)\n",
            "      (bn2): BatchNorm2d(256, eps=1e-05, momentum=0.1, affine=True, track_running_stats=True)\n",
            "      (downsample): Sequential(\n",
            "        (0): Conv2d(128, 256, kernel_size=(1, 1), stride=(2, 2), bias=False)\n",
            "        (1): BatchNorm2d(256, eps=1e-05, momentum=0.1, affine=True, track_running_stats=True)\n",
            "      )\n",
            "    )\n",
            "    (1): BasicBlock(\n",
            "      (conv1): Conv2d(256, 256, kernel_size=(3, 3), stride=(1, 1), padding=(1, 1), bias=False)\n",
            "      (bn1): BatchNorm2d(256, eps=1e-05, momentum=0.1, affine=True, track_running_stats=True)\n",
            "      (relu): ReLU(inplace=True)\n",
            "      (conv2): Conv2d(256, 256, kernel_size=(3, 3), stride=(1, 1), padding=(1, 1), bias=False)\n",
            "      (bn2): BatchNorm2d(256, eps=1e-05, momentum=0.1, affine=True, track_running_stats=True)\n",
            "    )\n",
            "  )\n",
            "  (layer4): Sequential(\n",
            "    (0): BasicBlock(\n",
            "      (conv1): Conv2d(256, 512, kernel_size=(3, 3), stride=(2, 2), padding=(1, 1), bias=False)\n",
            "      (bn1): BatchNorm2d(512, eps=1e-05, momentum=0.1, affine=True, track_running_stats=True)\n",
            "      (relu): ReLU(inplace=True)\n",
            "      (conv2): Conv2d(512, 512, kernel_size=(3, 3), stride=(1, 1), padding=(1, 1), bias=False)\n",
            "      (bn2): BatchNorm2d(512, eps=1e-05, momentum=0.1, affine=True, track_running_stats=True)\n",
            "      (downsample): Sequential(\n",
            "        (0): Conv2d(256, 512, kernel_size=(1, 1), stride=(2, 2), bias=False)\n",
            "        (1): BatchNorm2d(512, eps=1e-05, momentum=0.1, affine=True, track_running_stats=True)\n",
            "      )\n",
            "    )\n",
            "    (1): BasicBlock(\n",
            "      (conv1): Conv2d(512, 512, kernel_size=(3, 3), stride=(1, 1), padding=(1, 1), bias=False)\n",
            "      (bn1): BatchNorm2d(512, eps=1e-05, momentum=0.1, affine=True, track_running_stats=True)\n",
            "      (relu): ReLU(inplace=True)\n",
            "      (conv2): Conv2d(512, 512, kernel_size=(3, 3), stride=(1, 1), padding=(1, 1), bias=False)\n",
            "      (bn2): BatchNorm2d(512, eps=1e-05, momentum=0.1, affine=True, track_running_stats=True)\n",
            "    )\n",
            "  )\n",
            "  (avgpool): AdaptiveAvgPool2d(output_size=(1, 1))\n",
            "  (fc): Linear(in_features=512, out_features=4, bias=True)\n",
            ")\n"
          ]
        }
      ],
      "source": [
        "# Load the pre-trained ResNet18 model\n",
        "model = resnet18(pretrained=True)\n",
        "\n",
        "# Modify the final fully connected layer to output 4 classes\n",
        "model.fc = nn.Linear(model.fc.in_features, 4)  # 4 classes: meningioma, pituitary, healthy, glioma\n",
        "\n",
        "# Move the model to GPU if available, otherwise use CPU\n",
        "device = torch.device('cuda' if torch.cuda.is_available() else 'cpu')\n",
        "model = model.to(device)\n",
        "\n",
        "# Print the model architecture\n",
        "print(model)"
      ]
    },
    {
      "cell_type": "markdown",
      "metadata": {
        "id": "EfsXaK_25A5m"
      },
      "source": [
        "### **Define Loss Function and Optimizer**"
      ]
    },
    {
      "cell_type": "code",
      "execution_count": null,
      "metadata": {
        "id": "PPQGrqyE5IdS"
      },
      "outputs": [],
      "source": [
        "loss_function=nn.CrossEntropyLoss()\n",
        "optimizer=torch.optim.Adam(model.parameters(),lr=0.01)"
      ]
    },
    {
      "cell_type": "markdown",
      "metadata": {
        "id": "dtdE82fc5vU6"
      },
      "source": [
        "### **Train the Model**"
      ]
    },
    {
      "cell_type": "code",
      "execution_count": null,
      "metadata": {
        "id": "x6LkazqG50IB"
      },
      "outputs": [],
      "source": [
        "import torch\n",
        "\n",
        "def train_step(model: torch.nn.Module,\n",
        "               dataloader: torch.utils.data.DataLoader,\n",
        "               loss_fn: torch.nn.Module,\n",
        "               optimizer: torch.optim.Optimizer,\n",
        "               device: torch.device):\n",
        "    \"\"\"\n",
        "    Perform a single training step (batch processing) for one epoch.\n",
        "\n",
        "    Args:\n",
        "    - model (torch.nn.Module): The neural network model.\n",
        "    - dataloader (torch.utils.data.DataLoader): The data loader for the training set.\n",
        "    - loss_fn (torch.nn.Module): The loss function.\n",
        "    - optimizer (torch.optim.Optimizer): The optimizer used to update the model's weights.\n",
        "    - device (torch.device): The device (GPU or CPU) on which to perform the computations.\n",
        "\n",
        "    Returns:\n",
        "    - train_loss (float): The average training loss for this step.\n",
        "    - train_acc (float): The average training accuracy for this step.\n",
        "    \"\"\"\n",
        "\n",
        "    # Put the model in training mode\n",
        "    model.train()\n",
        "\n",
        "    # Initialize variables for loss and accuracy tracking\n",
        "    train_loss, train_acc = 0, 0\n",
        "\n",
        "    # Iterate through the dataloader (train data batches)\n",
        "    for X, y in dataloader:\n",
        "        # Move the data to the selected device (GPU or CPU)\n",
        "        X, y = X.to(device), y.to(device)\n",
        "\n",
        "        # 1. Forward pass\n",
        "        y_pred = model(X)\n",
        "\n",
        "        # 2. Calculate and accumulate loss\n",
        "        loss = loss_fn(y_pred, y)\n",
        "        train_loss += loss.item()\n",
        "\n",
        "        # 3. Zero the gradients\n",
        "        optimizer.zero_grad()\n",
        "\n",
        "        # 4. Perform backward pass (calculate gradients)\n",
        "        loss.backward()\n",
        "\n",
        "        # 5. Update model parameters\n",
        "        optimizer.step()\n",
        "\n",
        "        # 6. Calculate accuracy for this batch\n",
        "        y_pred_class = torch.argmax(torch.softmax(y_pred, dim=1), dim=1)\n",
        "        train_acc += (y_pred_class == y).sum().item() / len(y_pred)\n",
        "\n",
        "    # Calculate the average loss and accuracy across all batches\n",
        "    train_loss /= len(dataloader)\n",
        "    train_acc /= len(dataloader)\n",
        "\n",
        "    return train_loss, train_acc\n"
      ]
    },
    {
      "cell_type": "code",
      "execution_count": null,
      "metadata": {
        "id": "rxEjVpRc6w38"
      },
      "outputs": [],
      "source": [
        "def train_model(model: torch.nn.Module,\n",
        "                train_loader: torch.utils.data.DataLoader,\n",
        "                val_loader: torch.utils.data.DataLoader,\n",
        "                loss_fn: torch.nn.Module,\n",
        "                optimizer: torch.optim.Optimizer,\n",
        "                epochs: int,\n",
        "                device: torch.device):\n",
        "    \"\"\"\n",
        "    Train the model over multiple epochs using the provided data loaders, loss function, and optimizer.\n",
        "\n",
        "    Args:\n",
        "    - model (torch.nn.Module): The neural network model.\n",
        "    - train_loader (torch.utils.data.DataLoader): The DataLoader for the training data.\n",
        "    - val_loader (torch.utils.data.DataLoader): The DataLoader for the validation data.\n",
        "    - loss_fn (torch.nn.Module): The loss function.\n",
        "    - optimizer (torch.optim.Optimizer): The optimizer to use.\n",
        "    - epochs (int): The number of epochs to train the model.\n",
        "    - device (torch.device): The device (GPU or CPU) to use.\n",
        "\n",
        "    Returns:\n",
        "    - None: This function trains the model and prints loss and accuracy.\n",
        "    \"\"\"\n",
        "\n",
        "    # Move the model to the target device (GPU or CPU)\n",
        "    model.to(device)\n",
        "\n",
        "    from tqdm import tqdm\n",
        "    # Training loop\n",
        "    for epoch in tqdm(range(epochs)):\n",
        "        print(f\"Epoch {epoch+1}/{epochs}\")\n",
        "\n",
        "        # Train the model for this epoch\n",
        "        train_loss, train_acc = train_step(model, train_loader, loss_fn, optimizer, device)\n",
        "\n",
        "        # Print training stats for the epoch\n",
        "        print(f\"Train Loss: {train_loss:.4f}, Train Accuracy: {train_acc*100:.2f}%\")\n",
        "\n",
        "        # Optionally: You can add a validation step here to track the validation performance\n",
        "\n",
        "        # Add a validation step after each epoch (if needed)\n",
        "        if val_loader is not None:\n",
        "            val_loss, val_acc = validate_model(model, val_loader, loss_fn, device)\n",
        "            print(f\"Validation Loss: {val_loss:.4f}, Validation Accuracy: {val_acc*100:.2f}%\")\n",
        "\n",
        "        print(\"-\" * 50)\n",
        "\n",
        "\n",
        "def validate_model(model: torch.nn.Module,\n",
        "                   dataloader: torch.utils.data.DataLoader,\n",
        "                   loss_fn: torch.nn.Module,\n",
        "                   device: torch.device):\n",
        "    \"\"\"\n",
        "    Validate the model on the validation dataset.\n",
        "\n",
        "    Args:\n",
        "    - model (torch.nn.Module): The trained neural network model.\n",
        "    - dataloader (torch.utils.data.DataLoader): The validation data loader.\n",
        "    - loss_fn (torch.nn.Module): The loss function.\n",
        "    - device (torch.device): The device (GPU or CPU) for computation.\n",
        "\n",
        "    Returns:\n",
        "    - val_loss (float): The average validation loss.\n",
        "    - val_acc (float): The average validation accuracy.\n",
        "    \"\"\"\n",
        "\n",
        "    model.eval()  # Set the model to evaluation mode\n",
        "    val_loss, val_acc = 0, 0\n",
        "\n",
        "    with torch.no_grad():  # Disable gradient computation for validation\n",
        "        for X, y in dataloader:\n",
        "            X, y = X.to(device), y.to(device)\n",
        "\n",
        "            # Forward pass\n",
        "            y_pred = model(X)\n",
        "\n",
        "            # Calculate and accumulate validation loss\n",
        "            loss = loss_fn(y_pred, y)\n",
        "            val_loss += loss.item()\n",
        "\n",
        "            # Calculate accuracy for this batch\n",
        "            y_pred_class = torch.argmax(torch.softmax(y_pred, dim=1), dim=1)\n",
        "            val_acc += (y_pred_class == y).sum().item() / len(y_pred)\n",
        "\n",
        "    # Average the loss and accuracy across all validation batches\n",
        "    val_loss /= len(dataloader)\n",
        "    val_acc /= len(dataloader)\n",
        "\n",
        "    return val_loss, val_acc\n"
      ]
    },
    {
      "cell_type": "code",
      "execution_count": null,
      "metadata": {
        "colab": {
          "base_uri": "https://localhost:8080/"
        },
        "id": "EogMyFlU6Dz2",
        "outputId": "d081f9a3-106e-45ec-c349-c12edb8a4947"
      },
      "outputs": [
        {
          "name": "stderr",
          "output_type": "stream",
          "text": [
            "\r  0%|          | 0/10 [00:00<?, ?it/s]"
          ]
        },
        {
          "name": "stdout",
          "output_type": "stream",
          "text": [
            "Epoch 1/10\n"
          ]
        },
        {
          "name": "stderr",
          "output_type": "stream",
          "text": [
            "\r 10%|█         | 1/10 [00:38<05:45, 38.44s/it]"
          ]
        },
        {
          "name": "stdout",
          "output_type": "stream",
          "text": [
            "Train Loss: 0.1681, Train Accuracy: 93.87%\n",
            "--------------------------------------------------\n",
            "Epoch 2/10\n"
          ]
        },
        {
          "name": "stderr",
          "output_type": "stream",
          "text": [
            "\r 20%|██        | 2/10 [01:17<05:11, 38.88s/it]"
          ]
        },
        {
          "name": "stdout",
          "output_type": "stream",
          "text": [
            "Train Loss: 0.1420, Train Accuracy: 95.13%\n",
            "--------------------------------------------------\n",
            "Epoch 3/10\n"
          ]
        },
        {
          "name": "stderr",
          "output_type": "stream",
          "text": [
            "\r 30%|███       | 3/10 [01:56<04:31, 38.82s/it]"
          ]
        },
        {
          "name": "stdout",
          "output_type": "stream",
          "text": [
            "Train Loss: 0.1108, Train Accuracy: 96.13%\n",
            "--------------------------------------------------\n",
            "Epoch 4/10\n"
          ]
        },
        {
          "name": "stderr",
          "output_type": "stream",
          "text": [
            "\r 40%|████      | 4/10 [02:36<03:55, 39.19s/it]"
          ]
        },
        {
          "name": "stdout",
          "output_type": "stream",
          "text": [
            "Train Loss: 0.0777, Train Accuracy: 97.09%\n",
            "--------------------------------------------------\n",
            "Epoch 5/10\n"
          ]
        },
        {
          "name": "stderr",
          "output_type": "stream",
          "text": [
            "\r 50%|█████     | 5/10 [03:14<03:15, 39.06s/it]"
          ]
        },
        {
          "name": "stdout",
          "output_type": "stream",
          "text": [
            "Train Loss: 0.0798, Train Accuracy: 97.25%\n",
            "--------------------------------------------------\n",
            "Epoch 6/10\n"
          ]
        },
        {
          "name": "stderr",
          "output_type": "stream",
          "text": [
            "\r 60%|██████    | 6/10 [03:55<02:38, 39.70s/it]"
          ]
        },
        {
          "name": "stdout",
          "output_type": "stream",
          "text": [
            "Train Loss: 0.0567, Train Accuracy: 98.01%\n",
            "--------------------------------------------------\n",
            "Epoch 7/10\n"
          ]
        },
        {
          "name": "stderr",
          "output_type": "stream",
          "text": [
            "\r 70%|███████   | 7/10 [04:39<02:03, 41.12s/it]"
          ]
        },
        {
          "name": "stdout",
          "output_type": "stream",
          "text": [
            "Train Loss: 0.0553, Train Accuracy: 97.94%\n",
            "--------------------------------------------------\n",
            "Epoch 8/10\n"
          ]
        },
        {
          "name": "stderr",
          "output_type": "stream",
          "text": [
            "\r 80%|████████  | 8/10 [05:25<01:24, 42.38s/it]"
          ]
        },
        {
          "name": "stdout",
          "output_type": "stream",
          "text": [
            "Train Loss: 0.0445, Train Accuracy: 98.49%\n",
            "--------------------------------------------------\n",
            "Epoch 9/10\n"
          ]
        },
        {
          "name": "stderr",
          "output_type": "stream",
          "text": [
            "\r 90%|█████████ | 9/10 [06:11<00:43, 43.59s/it]"
          ]
        },
        {
          "name": "stdout",
          "output_type": "stream",
          "text": [
            "Train Loss: 0.0605, Train Accuracy: 97.80%\n",
            "--------------------------------------------------\n",
            "Epoch 10/10\n"
          ]
        },
        {
          "name": "stderr",
          "output_type": "stream",
          "text": [
            "100%|██████████| 10/10 [06:59<00:00, 41.91s/it]"
          ]
        },
        {
          "name": "stdout",
          "output_type": "stream",
          "text": [
            "Train Loss: 0.0374, Train Accuracy: 98.69%\n",
            "--------------------------------------------------\n"
          ]
        },
        {
          "name": "stderr",
          "output_type": "stream",
          "text": [
            "\n"
          ]
        }
      ],
      "source": [
        "train_model(model, train_dataloader,None, loss_function, optimizer, epochs=10, device=device)"
      ]
    },
    {
      "cell_type": "markdown",
      "metadata": {
        "id": "HAfCDXZ3lD0j"
      },
      "source": [
        "### **Model From  Scratch**"
      ]
    },
    {
      "cell_type": "code",
      "execution_count": null,
      "metadata": {
        "id": "bNdhsF4FlJR4"
      },
      "outputs": [],
      "source": [
        "class BrainTumorClassifier(nn.Module):\n",
        "  def __init__(self,input_shape,hidden_units,output_shape):\n",
        "    super().__init__()\n",
        "\n",
        "    self.convBlock1=nn.Sequential(\n",
        "        nn.Conv2d(in_channels=input_shape,out_channels=hidden_units,kernel_size=3,stride=1,padding=1),\n",
        "        nn.ReLU()\n",
        "    )\n",
        "\n",
        "    self.convBlock2=nn.Sequential(\n",
        "        nn.Conv2d(in_channels=hidden_units,out_channels=hidden_units,kernel_size=3,stride=1,padding=1),\n",
        "        nn.ReLU()\n",
        "        )\n",
        "    self.convBlock3=nn.Sequential(\n",
        "        nn.Conv2d(in_channels=hidden_units,out_channels=hidden_units,kernel_size=3,stride=1,padding=1),\n",
        "        nn.ReLU()\n",
        "        )\n",
        "    self.linear=nn.Sequential(\n",
        "        nn.MaxPool2d(kernel_size=3,stride=2),\n",
        "        nn.Flatten(),\n",
        "        nn.Linear(in_features=hidden_units*27*27,out_features=output_shape)\n",
        "    )\n",
        "\n",
        "  def forward(self,x):\n",
        "    return self.linear(self.convBlock3(self.convBlock2(self.convBlock1(x))))"
      ]
    },
    {
      "cell_type": "code",
      "execution_count": null,
      "metadata": {
        "id": "CbCsgntRpGYK"
      },
      "outputs": [],
      "source": [
        "Model_Classifier=BrainTumorClassifier(input_shape=3,hidden_units=10,output_shape=4)"
      ]
    },
    {
      "cell_type": "code",
      "execution_count": null,
      "metadata": {
        "colab": {
          "base_uri": "https://localhost:8080/"
        },
        "id": "Kdvgee2lqQH-",
        "outputId": "48431da9-3ea3-4edc-ca75-b68206e27e7d"
      },
      "outputs": [
        {
          "output_type": "execute_result",
          "data": {
            "text/plain": [
              "BrainTumorClassifier(\n",
              "  (convBlock1): Sequential(\n",
              "    (0): Conv2d(3, 10, kernel_size=(3, 3), stride=(1, 1), padding=(1, 1))\n",
              "    (1): ReLU()\n",
              "  )\n",
              "  (convBlock2): Sequential(\n",
              "    (0): Conv2d(10, 10, kernel_size=(3, 3), stride=(1, 1), padding=(1, 1))\n",
              "    (1): ReLU()\n",
              "  )\n",
              "  (convBlock3): Sequential(\n",
              "    (0): Conv2d(10, 10, kernel_size=(3, 3), stride=(1, 1), padding=(1, 1))\n",
              "    (1): ReLU()\n",
              "  )\n",
              "  (linear): Sequential(\n",
              "    (0): MaxPool2d(kernel_size=3, stride=2, padding=0, dilation=1, ceil_mode=False)\n",
              "    (1): Flatten(start_dim=1, end_dim=-1)\n",
              "    (2): Linear(in_features=7290, out_features=4, bias=True)\n",
              "  )\n",
              ")"
            ]
          },
          "metadata": {},
          "execution_count": 72
        }
      ],
      "source": [
        "Model_Classifier"
      ]
    },
    {
      "cell_type": "markdown",
      "metadata": {
        "id": "e35fiQef6JgP"
      },
      "source": [
        "### **Evaluate and Save the Model**"
      ]
    },
    {
      "cell_type": "code",
      "execution_count": null,
      "metadata": {
        "colab": {
          "base_uri": "https://localhost:8080/"
        },
        "id": "W8n9MStE6Ko4",
        "outputId": "2c974077-5ef4-4328-8b89-3c6acfc88f1a"
      },
      "outputs": [
        {
          "output_type": "stream",
          "name": "stdout",
          "text": [
            "              precision    recall  f1-score   support\n",
            "\n",
            "           0       0.00      0.00      0.00       325\n",
            "           1       0.75      0.01      0.03       400\n",
            "           2       0.23      0.55      0.32       329\n",
            "           3       0.29      0.49      0.36       352\n",
            "\n",
            "    accuracy                           0.26      1406\n",
            "   macro avg       0.32      0.26      0.18      1406\n",
            "weighted avg       0.34      0.26      0.17      1406\n",
            "\n",
            "[[  0   1 222 102]\n",
            " [  1   6 216 177]\n",
            " [  1   0 181 147]\n",
            " [  0   1 178 173]]\n"
          ]
        }
      ],
      "source": [
        "from sklearn.metrics import accuracy_score, classification_report, confusion_matrix\n",
        "\n",
        "def evaluate_model(model, test_loader):\n",
        "    model.eval()\n",
        "    predictions, actuals = [], []\n",
        "    with torch.no_grad():\n",
        "        for images, labels in test_loader:\n",
        "            images, labels = images.to(device), labels.to(device)\n",
        "            outputs = model(images)\n",
        "            _, preds = torch.max(outputs, 1)\n",
        "            predictions.extend(preds.cpu().numpy())\n",
        "            actuals.extend(labels.cpu().numpy())\n",
        "\n",
        "    print(classification_report(actuals, predictions))\n",
        "    print(confusion_matrix(actuals, predictions))\n",
        "\n",
        "evaluate_model(model, test_dataloader)\n"
      ]
    },
    {
      "cell_type": "markdown",
      "metadata": {
        "id": "dsHaB3Ld6M-A"
      },
      "source": [
        "### **Save the Model**"
      ]
    },
    {
      "cell_type": "code",
      "execution_count": null,
      "metadata": {
        "id": "fz_pxpQ46Qau"
      },
      "outputs": [],
      "source": [
        "torch.save(model.state_dict(), 'brain_tumor_model.pth')"
      ]
    },
    {
      "cell_type": "markdown",
      "metadata": {
        "id": "xSjhm-Ld73RH"
      },
      "source": [
        "### **Custome Image**"
      ]
    },
    {
      "cell_type": "code",
      "execution_count": null,
      "metadata": {
        "colab": {
          "base_uri": "https://localhost:8080/"
        },
        "id": "wfFI3zIK75QK",
        "outputId": "d8bd1a6b-d319-412c-d564-6c5d79bb46fb"
      },
      "outputs": [
        {
          "output_type": "stream",
          "name": "stdout",
          "text": [
            "Predicted class: glioma\n"
          ]
        }
      ],
      "source": [
        "from PIL import Image\n",
        "from torchvision import transforms\n",
        "import torch\n",
        "\n",
        "# Define the same transformation as used in training\n",
        "transform = transforms.Compose([\n",
        "    transforms.Resize((224, 224)),    # Resize the image to 224x224 (as expected by ResNet)\n",
        "    transforms.ToTensor(),            # Convert the image to a tensor\n",
        "    transforms.Normalize(mean=[0.485, 0.456, 0.406], std=[0.229, 0.224, 0.225]),  # Normalize using ImageNet values\n",
        "])\n",
        "\n",
        "def predict_image(image_path, model, device):\n",
        "    # Load the image\n",
        "    image = Image.open(image_path).convert(\"RGB\")  # Ensure the image is in RGB format\n",
        "\n",
        "    # Apply the transformations\n",
        "    image = transform(image)\n",
        "\n",
        "    # Add an extra batch dimension (since the model expects a batch)\n",
        "    image = image.unsqueeze(0)\n",
        "\n",
        "    # Send the image to the same device as the model\n",
        "    image = image.to(device)\n",
        "\n",
        "    # Set the model to evaluation mode\n",
        "    model.eval()\n",
        "\n",
        "    # Disable gradient computation (not needed for inference)\n",
        "    with torch.no_grad():\n",
        "        # Get model prediction\n",
        "        output = model(image)\n",
        "\n",
        "        # Get the predicted class (the class with the highest score)\n",
        "        _, predicted_class = torch.max(output, 1)\n",
        "\n",
        "    return predicted_class.item()\n",
        "\n",
        "# Example usage:\n",
        "image_path = \"Temp.jpg\"  # Path to your custom image\n",
        "device = torch.device('cuda' if torch.cuda.is_available() else 'cpu')\n",
        "predicted_class = predict_image(image_path, model, device)\n",
        "\n",
        "# Map the predicted class to your class labels\n",
        "class_names = ['glioma','healthy','meningioma', 'pituitary']\n",
        "print(f\"Predicted class: {class_names[predicted_class]}\")\n"
      ]
    },
    {
      "cell_type": "code",
      "execution_count": null,
      "metadata": {
        "colab": {
          "base_uri": "https://localhost:8080/",
          "height": 406
        },
        "id": "ckxnFnkv8Ah2",
        "outputId": "f5bef6cc-bdda-4181-e7c8-663afe743691"
      },
      "outputs": [
        {
          "output_type": "display_data",
          "data": {
            "text/plain": [
              "<Figure size 640x480 with 1 Axes>"
            ],
            "image/png": "[encoded data removed]"
          },
          "metadata": {}
        }
      ],
      "source": [
        "import matplotlib.pyplot as plt\n",
        "\n",
        "# Function to display the image\n",
        "def show_image(image_path):\n",
        "    image = Image.open(image_path)\n",
        "    plt.imshow(image)\n",
        "    plt.axis('off')\n",
        "    plt.show()\n",
        "\n",
        "# Display the image\n",
        "show_image(image_path)\n"
      ]
    },
    {
      "cell_type": "markdown",
      "metadata": {
        "id": "ZejlR5SGgZNX"
      },
      "source": [
        "### **Load Model Parameters**"
      ]
    },
    {
      "cell_type": "code",
      "execution_count": null,
      "metadata": {
        "colab": {
          "base_uri": "https://localhost:8080/"
        },
        "id": "OpExOagDgcUC",
        "outputId": "f0ab08a8-505f-4077-8aa2-ff8d73df2d35"
      },
      "outputs": [
        {
          "output_type": "execute_result",
          "data": {
            "text/plain": [
              "<All keys matched successfully>"
            ]
          },
          "metadata": {},
          "execution_count": 76
        }
      ],
      "source": [
        "state_dict = torch.load('brain_tumor_model.pth', weights_only=True)\n",
        "model.load_state_dict(state_dict, strict=False)"
      ]
    },
    {
      "cell_type": "code",
      "source": [],
      "metadata": {
        "id": "0Ce0Jz2Zj12I"
      },
      "execution_count": null,
      "outputs": []
    }
  ],
  "metadata": {
    "accelerator": "GPU",
    "colab": {
      "gpuType": "T4",
      "provenance": [],
      "authorship_tag": "ABX9TyMHHrd2L/IG8ClWPDDUZOw+",
      "include_colab_link": true
    },
    "kernelspec": {
      "display_name": "Python 3",
      "name": "python3"
    },
    "language_info": {
      "name": "python"
    }
  },
  "nbformat": 4,
  "nbformat_minor": 0
}